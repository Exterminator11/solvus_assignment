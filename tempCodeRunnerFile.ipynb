import torch
import speechbrain
from speechbrain.pretrained import SpeakerDiarization

diarization = SpeakerDiarization.from_hparams(
    source="speechbrain/spkrec-diarization", savedir="tmpdir"
)
diarization.diarize("/Users/rachitdas/Desktop/solvus_assignment/F_0101_10y4m_1.wav")